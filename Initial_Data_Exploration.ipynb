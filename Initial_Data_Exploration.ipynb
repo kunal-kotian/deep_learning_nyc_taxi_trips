{
 "cells": [
  {
   "cell_type": "code",
   "execution_count": 1,
   "metadata": {
    "ExecuteTime": {
     "end_time": "2018-02-04T20:16:17.092612Z",
     "start_time": "2018-02-04T20:16:16.349769Z"
    }
   },
   "outputs": [],
   "source": [
    "import numpy as np\n",
    "import pandas as pd\n",
    "from datetime import datetime\n",
    "import re\n",
    "from sklearn.cluster import MiniBatchKMeans\n",
    "from sklearn.model_selection import train_test_split\n",
    "from sklearn_pandas import DataFrameMapper\n",
    "from sklearn.preprocessing import LabelEncoder, Imputer, StandardScaler\n",
    "from pandas.api.types import is_string_dtype, is_numeric_dtype\n",
    "from geopy.distance import vincenty"
   ]
  },
  {
   "cell_type": "markdown",
   "metadata": {
    "heading_collapsed": true
   },
   "source": [
    "## Functions"
   ]
  },
  {
   "cell_type": "code",
   "execution_count": 2,
   "metadata": {
    "ExecuteTime": {
     "end_time": "2018-02-04T20:16:19.101799Z",
     "start_time": "2018-02-04T20:16:18.966665Z"
    },
    "hidden": true
   },
   "outputs": [],
   "source": [
    "def add_datepart(df, fldname):\n",
    "    fld = df[fldname]\n",
    "    if not np.issubdtype(fld.dtype, np.datetime64):\n",
    "        df[fldname] = fld = pd.to_datetime(fld, infer_datetime_format=True)\n",
    "    targ_pre = re.sub('[Dd]ate$', '', fldname)\n",
    "    for n in ('Year', 'Month', 'Week', 'Day', 'Dayofweek', 'Dayofyear','Hour'):\n",
    "        df[targ_pre+n] = getattr(fld.dt,n.lower())\n",
    "        \n",
    "def train_cats(df):\n",
    "    for n,c in df.items():\n",
    "        if is_string_dtype(c): df[n] = c.astype('category').cat.as_ordered()\n",
    "\n",
    "def apply_cats(df, trn):\n",
    "    for n,c in df.items():\n",
    "        if (n in trn.columns) and (trn[n].dtype.name=='category'):\n",
    "            df[n] = pd.Categorical(c, categories=trn[n].cat.categories, ordered=True)\n",
    "\n",
    "def fix_missing(df, col, name, na_dict):\n",
    "    if is_numeric_dtype(col):\n",
    "        if pd.isnull(col).sum() or (name in na_dict):\n",
    "            df[name+'_na'] = pd.isnull(col)\n",
    "            filler = na_dict[name] if name in na_dict else col.median()\n",
    "            df[name] = col.fillna(filler)\n",
    "            na_dict[name] = filler\n",
    "    return na_dict\n",
    "\n",
    "def numericalize(df, col, name, max_n_cat):\n",
    "    if not is_numeric_dtype(col) and ( max_n_cat is None or col.nunique()>max_n_cat):\n",
    "        df[name] = col.cat.codes+1\n",
    "\n",
    "def scale_vars(df, mapper):\n",
    "    warnings.filterwarnings('ignore', category=sklearn.exceptions.DataConversionWarning)\n",
    "    if mapper is None:\n",
    "        map_f = [([n],StandardScaler()) for n in df.columns if is_numeric_dtype(df[n])]\n",
    "        mapper = DataFrameMapper(map_f).fit(df)\n",
    "    df[mapper.transformed_names_] = mapper.transform(df)\n",
    "    return mapper\n",
    "\n",
    "def proc_df(df, y_fld, skip_flds=None, do_scale=False, na_dict=None,\n",
    "            preproc_fn=None, max_n_cat=None, subset=None, mapper=None):\n",
    "    if not skip_flds: skip_flds=[]\n",
    "    if subset: df = get_sample(df,subset)\n",
    "    df = df.copy()\n",
    "    if preproc_fn: preproc_fn(df)\n",
    "    y = df[y_fld].values\n",
    "    df.drop(skip_flds+[y_fld], axis=1, inplace=True)\n",
    "    if na_dict is None: na_dict = {}\n",
    "    for n,c in df.items(): na_dict = fix_missing(df, c, n, na_dict)\n",
    "    if do_scale: mapper = scale_vars(df, mapper)\n",
    "    for n,c in df.items(): numericalize(df, c, n, max_n_cat)\n",
    "    res = [pd.get_dummies(df, dummy_na=True), y, na_dict]\n",
    "    if do_scale: res = res + [mapper]\n",
    "    return res"
   ]
  },
  {
   "cell_type": "markdown",
   "metadata": {},
   "source": [
    "## Data Exploration and Cleaning"
   ]
  },
  {
   "cell_type": "code",
   "execution_count": 67,
   "metadata": {
    "ExecuteTime": {
     "end_time": "2018-02-04T21:13:27.009545Z",
     "start_time": "2018-02-04T21:13:21.001036Z"
    }
   },
   "outputs": [],
   "source": [
    "PATH = './data/'\n",
    "data = pd.read_csv(PATH+'train.csv')\n",
    "test = pd.read_csv(PATH+'test.csv')"
   ]
  },
  {
   "cell_type": "code",
   "execution_count": 68,
   "metadata": {
    "ExecuteTime": {
     "end_time": "2018-02-04T21:13:28.230760Z",
     "start_time": "2018-02-04T21:13:27.552396Z"
    }
   },
   "outputs": [
    {
     "data": {
      "text/html": [
       "<div>\n",
       "<style scoped>\n",
       "    .dataframe tbody tr th:only-of-type {\n",
       "        vertical-align: middle;\n",
       "    }\n",
       "\n",
       "    .dataframe tbody tr th {\n",
       "        vertical-align: top;\n",
       "    }\n",
       "\n",
       "    .dataframe thead th {\n",
       "        text-align: right;\n",
       "    }\n",
       "</style>\n",
       "<table border=\"1\" class=\"dataframe\">\n",
       "  <thead>\n",
       "    <tr style=\"text-align: right;\">\n",
       "      <th></th>\n",
       "      <th>vendor_id</th>\n",
       "      <th>passenger_count</th>\n",
       "      <th>pickup_longitude</th>\n",
       "      <th>pickup_latitude</th>\n",
       "      <th>dropoff_longitude</th>\n",
       "      <th>dropoff_latitude</th>\n",
       "      <th>trip_duration</th>\n",
       "    </tr>\n",
       "  </thead>\n",
       "  <tbody>\n",
       "    <tr>\n",
       "      <th>count</th>\n",
       "      <td>1.458644e+06</td>\n",
       "      <td>1.458644e+06</td>\n",
       "      <td>1.458644e+06</td>\n",
       "      <td>1.458644e+06</td>\n",
       "      <td>1.458644e+06</td>\n",
       "      <td>1.458644e+06</td>\n",
       "      <td>1.458644e+06</td>\n",
       "    </tr>\n",
       "    <tr>\n",
       "      <th>mean</th>\n",
       "      <td>1.534950e+00</td>\n",
       "      <td>1.664530e+00</td>\n",
       "      <td>-7.397349e+01</td>\n",
       "      <td>4.075092e+01</td>\n",
       "      <td>-7.397342e+01</td>\n",
       "      <td>4.075180e+01</td>\n",
       "      <td>9.594923e+02</td>\n",
       "    </tr>\n",
       "    <tr>\n",
       "      <th>std</th>\n",
       "      <td>4.987772e-01</td>\n",
       "      <td>1.314242e+00</td>\n",
       "      <td>7.090186e-02</td>\n",
       "      <td>3.288119e-02</td>\n",
       "      <td>7.064327e-02</td>\n",
       "      <td>3.589056e-02</td>\n",
       "      <td>5.237432e+03</td>\n",
       "    </tr>\n",
       "    <tr>\n",
       "      <th>min</th>\n",
       "      <td>1.000000e+00</td>\n",
       "      <td>0.000000e+00</td>\n",
       "      <td>-1.219333e+02</td>\n",
       "      <td>3.435970e+01</td>\n",
       "      <td>-1.219333e+02</td>\n",
       "      <td>3.218114e+01</td>\n",
       "      <td>1.000000e+00</td>\n",
       "    </tr>\n",
       "    <tr>\n",
       "      <th>25%</th>\n",
       "      <td>1.000000e+00</td>\n",
       "      <td>1.000000e+00</td>\n",
       "      <td>-7.399187e+01</td>\n",
       "      <td>4.073735e+01</td>\n",
       "      <td>-7.399133e+01</td>\n",
       "      <td>4.073588e+01</td>\n",
       "      <td>3.970000e+02</td>\n",
       "    </tr>\n",
       "    <tr>\n",
       "      <th>50%</th>\n",
       "      <td>2.000000e+00</td>\n",
       "      <td>1.000000e+00</td>\n",
       "      <td>-7.398174e+01</td>\n",
       "      <td>4.075410e+01</td>\n",
       "      <td>-7.397975e+01</td>\n",
       "      <td>4.075452e+01</td>\n",
       "      <td>6.620000e+02</td>\n",
       "    </tr>\n",
       "    <tr>\n",
       "      <th>75%</th>\n",
       "      <td>2.000000e+00</td>\n",
       "      <td>2.000000e+00</td>\n",
       "      <td>-7.396733e+01</td>\n",
       "      <td>4.076836e+01</td>\n",
       "      <td>-7.396301e+01</td>\n",
       "      <td>4.076981e+01</td>\n",
       "      <td>1.075000e+03</td>\n",
       "    </tr>\n",
       "    <tr>\n",
       "      <th>max</th>\n",
       "      <td>2.000000e+00</td>\n",
       "      <td>9.000000e+00</td>\n",
       "      <td>-6.133553e+01</td>\n",
       "      <td>5.188108e+01</td>\n",
       "      <td>-6.133553e+01</td>\n",
       "      <td>4.392103e+01</td>\n",
       "      <td>3.526282e+06</td>\n",
       "    </tr>\n",
       "  </tbody>\n",
       "</table>\n",
       "</div>"
      ],
      "text/plain": [
       "          vendor_id  passenger_count  pickup_longitude  pickup_latitude  \\\n",
       "count  1.458644e+06     1.458644e+06      1.458644e+06     1.458644e+06   \n",
       "mean   1.534950e+00     1.664530e+00     -7.397349e+01     4.075092e+01   \n",
       "std    4.987772e-01     1.314242e+00      7.090186e-02     3.288119e-02   \n",
       "min    1.000000e+00     0.000000e+00     -1.219333e+02     3.435970e+01   \n",
       "25%    1.000000e+00     1.000000e+00     -7.399187e+01     4.073735e+01   \n",
       "50%    2.000000e+00     1.000000e+00     -7.398174e+01     4.075410e+01   \n",
       "75%    2.000000e+00     2.000000e+00     -7.396733e+01     4.076836e+01   \n",
       "max    2.000000e+00     9.000000e+00     -6.133553e+01     5.188108e+01   \n",
       "\n",
       "       dropoff_longitude  dropoff_latitude  trip_duration  \n",
       "count       1.458644e+06      1.458644e+06   1.458644e+06  \n",
       "mean       -7.397342e+01      4.075180e+01   9.594923e+02  \n",
       "std         7.064327e-02      3.589056e-02   5.237432e+03  \n",
       "min        -1.219333e+02      3.218114e+01   1.000000e+00  \n",
       "25%        -7.399133e+01      4.073588e+01   3.970000e+02  \n",
       "50%        -7.397975e+01      4.075452e+01   6.620000e+02  \n",
       "75%        -7.396301e+01      4.076981e+01   1.075000e+03  \n",
       "max        -6.133553e+01      4.392103e+01   3.526282e+06  "
      ]
     },
     "execution_count": 68,
     "metadata": {},
     "output_type": "execute_result"
    }
   ],
   "source": [
    "data.describe()"
   ]
  },
  {
   "cell_type": "code",
   "execution_count": 69,
   "metadata": {
    "ExecuteTime": {
     "end_time": "2018-02-04T21:13:28.997220Z",
     "start_time": "2018-02-04T21:13:28.882561Z"
    }
   },
   "outputs": [],
   "source": [
    "# Removing trips more than an hour and less than a minute\n",
    "data = data[(data['trip_duration']<60*60) & (data['trip_duration']>60)]"
   ]
  },
  {
   "cell_type": "code",
   "execution_count": 70,
   "metadata": {
    "ExecuteTime": {
     "end_time": "2018-02-04T21:13:31.628382Z",
     "start_time": "2018-02-04T21:13:30.009967Z"
    }
   },
   "outputs": [],
   "source": [
    "# Adding time features\n",
    "add_datepart(data,'pickup_datetime')\n",
    "add_datepart(test,'pickup_datetime')"
   ]
  },
  {
   "cell_type": "code",
   "execution_count": 71,
   "metadata": {
    "ExecuteTime": {
     "end_time": "2018-02-04T21:13:36.913441Z",
     "start_time": "2018-02-04T21:13:32.365173Z"
    }
   },
   "outputs": [],
   "source": [
    "data['pickup_date'] = data['pickup_datetime'].dt.date\n",
    "test['pickup_date'] = test['pickup_datetime'].dt.date"
   ]
  },
  {
   "cell_type": "code",
   "execution_count": 72,
   "metadata": {
    "ExecuteTime": {
     "end_time": "2018-02-04T21:13:37.822180Z",
     "start_time": "2018-02-04T21:13:37.219503Z"
    }
   },
   "outputs": [],
   "source": [
    "# Dropping drop-off time as it is not available in the test data \n",
    "data.drop(['dropoff_datetime'],axis=1,inplace=True)\n",
    "# Drop pickup_datetima as the information is encoded in different columns using add_datepart\n",
    "data.drop('pickup_datetime',axis=1,inplace=True)\n",
    "test.drop('pickup_datetime',axis=1,inplace=True)"
   ]
  },
  {
   "cell_type": "code",
   "execution_count": 73,
   "metadata": {
    "ExecuteTime": {
     "end_time": "2018-02-04T21:13:38.137739Z",
     "start_time": "2018-02-04T21:13:38.119259Z"
    }
   },
   "outputs": [
    {
     "data": {
      "text/html": [
       "<div>\n",
       "<style scoped>\n",
       "    .dataframe tbody tr th:only-of-type {\n",
       "        vertical-align: middle;\n",
       "    }\n",
       "\n",
       "    .dataframe tbody tr th {\n",
       "        vertical-align: top;\n",
       "    }\n",
       "\n",
       "    .dataframe thead th {\n",
       "        text-align: right;\n",
       "    }\n",
       "</style>\n",
       "<table border=\"1\" class=\"dataframe\">\n",
       "  <thead>\n",
       "    <tr style=\"text-align: right;\">\n",
       "      <th></th>\n",
       "      <th>id</th>\n",
       "      <th>vendor_id</th>\n",
       "      <th>passenger_count</th>\n",
       "      <th>pickup_longitude</th>\n",
       "      <th>pickup_latitude</th>\n",
       "      <th>dropoff_longitude</th>\n",
       "      <th>dropoff_latitude</th>\n",
       "      <th>store_and_fwd_flag</th>\n",
       "      <th>trip_duration</th>\n",
       "      <th>pickup_datetimeYear</th>\n",
       "      <th>pickup_datetimeMonth</th>\n",
       "      <th>pickup_datetimeWeek</th>\n",
       "      <th>pickup_datetimeDay</th>\n",
       "      <th>pickup_datetimeDayofweek</th>\n",
       "      <th>pickup_datetimeDayofyear</th>\n",
       "      <th>pickup_datetimeHour</th>\n",
       "      <th>pickup_date</th>\n",
       "    </tr>\n",
       "  </thead>\n",
       "  <tbody>\n",
       "    <tr>\n",
       "      <th>0</th>\n",
       "      <td>id2875421</td>\n",
       "      <td>2</td>\n",
       "      <td>1</td>\n",
       "      <td>-73.982155</td>\n",
       "      <td>40.767937</td>\n",
       "      <td>-73.964630</td>\n",
       "      <td>40.765602</td>\n",
       "      <td>N</td>\n",
       "      <td>455</td>\n",
       "      <td>2016</td>\n",
       "      <td>3</td>\n",
       "      <td>11</td>\n",
       "      <td>14</td>\n",
       "      <td>0</td>\n",
       "      <td>74</td>\n",
       "      <td>17</td>\n",
       "      <td>2016-03-14</td>\n",
       "    </tr>\n",
       "    <tr>\n",
       "      <th>1</th>\n",
       "      <td>id2377394</td>\n",
       "      <td>1</td>\n",
       "      <td>1</td>\n",
       "      <td>-73.980415</td>\n",
       "      <td>40.738564</td>\n",
       "      <td>-73.999481</td>\n",
       "      <td>40.731152</td>\n",
       "      <td>N</td>\n",
       "      <td>663</td>\n",
       "      <td>2016</td>\n",
       "      <td>6</td>\n",
       "      <td>23</td>\n",
       "      <td>12</td>\n",
       "      <td>6</td>\n",
       "      <td>164</td>\n",
       "      <td>0</td>\n",
       "      <td>2016-06-12</td>\n",
       "    </tr>\n",
       "    <tr>\n",
       "      <th>2</th>\n",
       "      <td>id3858529</td>\n",
       "      <td>2</td>\n",
       "      <td>1</td>\n",
       "      <td>-73.979027</td>\n",
       "      <td>40.763939</td>\n",
       "      <td>-74.005333</td>\n",
       "      <td>40.710087</td>\n",
       "      <td>N</td>\n",
       "      <td>2124</td>\n",
       "      <td>2016</td>\n",
       "      <td>1</td>\n",
       "      <td>3</td>\n",
       "      <td>19</td>\n",
       "      <td>1</td>\n",
       "      <td>19</td>\n",
       "      <td>11</td>\n",
       "      <td>2016-01-19</td>\n",
       "    </tr>\n",
       "    <tr>\n",
       "      <th>3</th>\n",
       "      <td>id3504673</td>\n",
       "      <td>2</td>\n",
       "      <td>1</td>\n",
       "      <td>-74.010040</td>\n",
       "      <td>40.719971</td>\n",
       "      <td>-74.012268</td>\n",
       "      <td>40.706718</td>\n",
       "      <td>N</td>\n",
       "      <td>429</td>\n",
       "      <td>2016</td>\n",
       "      <td>4</td>\n",
       "      <td>14</td>\n",
       "      <td>6</td>\n",
       "      <td>2</td>\n",
       "      <td>97</td>\n",
       "      <td>19</td>\n",
       "      <td>2016-04-06</td>\n",
       "    </tr>\n",
       "    <tr>\n",
       "      <th>4</th>\n",
       "      <td>id2181028</td>\n",
       "      <td>2</td>\n",
       "      <td>1</td>\n",
       "      <td>-73.973053</td>\n",
       "      <td>40.793209</td>\n",
       "      <td>-73.972923</td>\n",
       "      <td>40.782520</td>\n",
       "      <td>N</td>\n",
       "      <td>435</td>\n",
       "      <td>2016</td>\n",
       "      <td>3</td>\n",
       "      <td>12</td>\n",
       "      <td>26</td>\n",
       "      <td>5</td>\n",
       "      <td>86</td>\n",
       "      <td>13</td>\n",
       "      <td>2016-03-26</td>\n",
       "    </tr>\n",
       "  </tbody>\n",
       "</table>\n",
       "</div>"
      ],
      "text/plain": [
       "          id  vendor_id  passenger_count  pickup_longitude  pickup_latitude  \\\n",
       "0  id2875421          2                1        -73.982155        40.767937   \n",
       "1  id2377394          1                1        -73.980415        40.738564   \n",
       "2  id3858529          2                1        -73.979027        40.763939   \n",
       "3  id3504673          2                1        -74.010040        40.719971   \n",
       "4  id2181028          2                1        -73.973053        40.793209   \n",
       "\n",
       "   dropoff_longitude  dropoff_latitude store_and_fwd_flag  trip_duration  \\\n",
       "0         -73.964630         40.765602                  N            455   \n",
       "1         -73.999481         40.731152                  N            663   \n",
       "2         -74.005333         40.710087                  N           2124   \n",
       "3         -74.012268         40.706718                  N            429   \n",
       "4         -73.972923         40.782520                  N            435   \n",
       "\n",
       "   pickup_datetimeYear  pickup_datetimeMonth  pickup_datetimeWeek  \\\n",
       "0                 2016                     3                   11   \n",
       "1                 2016                     6                   23   \n",
       "2                 2016                     1                    3   \n",
       "3                 2016                     4                   14   \n",
       "4                 2016                     3                   12   \n",
       "\n",
       "   pickup_datetimeDay  pickup_datetimeDayofweek  pickup_datetimeDayofyear  \\\n",
       "0                  14                         0                        74   \n",
       "1                  12                         6                       164   \n",
       "2                  19                         1                        19   \n",
       "3                   6                         2                        97   \n",
       "4                  26                         5                        86   \n",
       "\n",
       "   pickup_datetimeHour pickup_date  \n",
       "0                   17  2016-03-14  \n",
       "1                    0  2016-06-12  \n",
       "2                   11  2016-01-19  \n",
       "3                   19  2016-04-06  \n",
       "4                   13  2016-03-26  "
      ]
     },
     "execution_count": 73,
     "metadata": {},
     "output_type": "execute_result"
    }
   ],
   "source": [
    "data.head()"
   ]
  },
  {
   "cell_type": "code",
   "execution_count": 74,
   "metadata": {
    "ExecuteTime": {
     "end_time": "2018-02-04T21:13:38.497496Z",
     "start_time": "2018-02-04T21:13:38.443846Z"
    }
   },
   "outputs": [],
   "source": [
    "# Clustering based on Latitute and longitude \n",
    "places = np.vstack((data[['pickup_latitude', 'pickup_longitude']].values,\n",
    "                    data[['dropoff_latitude', 'dropoff_longitude']].values))"
   ]
  },
  {
   "cell_type": "code",
   "execution_count": 75,
   "metadata": {
    "ExecuteTime": {
     "end_time": "2018-02-04T21:13:42.562796Z",
     "start_time": "2018-02-04T21:13:39.436051Z"
    }
   },
   "outputs": [],
   "source": [
    "kmeans = MiniBatchKMeans(n_clusters=100, batch_size=10000).fit(places)"
   ]
  },
  {
   "cell_type": "code",
   "execution_count": 76,
   "metadata": {
    "ExecuteTime": {
     "end_time": "2018-02-04T21:13:46.242248Z",
     "start_time": "2018-02-04T21:13:42.867193Z"
    }
   },
   "outputs": [],
   "source": [
    "data['pickup_cluster'] = kmeans.predict(data[['pickup_latitude', 'pickup_longitude']])\n",
    "data['dropoff_cluster'] = kmeans.predict(data[['dropoff_latitude', 'dropoff_longitude']])\n",
    "test['pickup_cluster'] = kmeans.predict(test[['pickup_latitude', 'pickup_longitude']])\n",
    "test['dropoff_cluster'] = kmeans.predict(test[['dropoff_latitude', 'dropoff_longitude']])"
   ]
  },
  {
   "cell_type": "code",
   "execution_count": 77,
   "metadata": {
    "ExecuteTime": {
     "end_time": "2018-02-04T21:27:47.547937Z",
     "start_time": "2018-02-04T21:13:46.567394Z"
    }
   },
   "outputs": [
    {
     "data": {
      "text/plain": [
       "pickup_datetimeYear               1\n",
       "vendor_id                         2\n",
       "store_and_fwd_flag                2\n",
       "pickup_datetimeMonth              6\n",
       "pickup_datetimeDayofweek          7\n",
       "passenger_count                   9\n",
       "pickup_datetimeHour              24\n",
       "pickup_datetimeWeek              27\n",
       "pickup_datetimeDay               31\n",
       "dropoff_cluster                 100\n",
       "pickup_cluster                  100\n",
       "pickup_datetimeDayofyear        182\n",
       "pickup_date                     182\n",
       "trip_duration                  3539\n",
       "pickup_longitude              22153\n",
       "dropoff_longitude             32886\n",
       "pickup_latitude               44561\n",
       "dropoff_latitude              61678\n",
       "id                          1437533\n",
       "dtype: int64"
      ]
     },
     "execution_count": 77,
     "metadata": {},
     "output_type": "execute_result"
    }
   ],
   "source": [
    "data.nunique().sort_values()"
   ]
  },
  {
   "cell_type": "markdown",
   "metadata": {
    "ExecuteTime": {
     "end_time": "2018-02-04T08:55:55.070061Z",
     "start_time": "2018-02-04T08:55:55.067903Z"
    }
   },
   "source": [
    "## Feature Engineering"
   ]
  },
  {
   "cell_type": "code",
   "execution_count": 78,
   "metadata": {
    "ExecuteTime": {
     "end_time": "2018-02-04T21:27:47.799124Z",
     "start_time": "2018-02-04T21:27:47.795023Z"
    }
   },
   "outputs": [
    {
     "data": {
      "text/plain": [
       "Index(['id', 'vendor_id', 'passenger_count', 'pickup_longitude',\n",
       "       'pickup_latitude', 'dropoff_longitude', 'dropoff_latitude',\n",
       "       'store_and_fwd_flag', 'trip_duration', 'pickup_datetimeYear',\n",
       "       'pickup_datetimeMonth', 'pickup_datetimeWeek', 'pickup_datetimeDay',\n",
       "       'pickup_datetimeDayofweek', 'pickup_datetimeDayofyear',\n",
       "       'pickup_datetimeHour', 'pickup_date', 'pickup_cluster',\n",
       "       'dropoff_cluster'],\n",
       "      dtype='object')"
      ]
     },
     "execution_count": 78,
     "metadata": {},
     "output_type": "execute_result"
    }
   ],
   "source": [
    "data.columns"
   ]
  },
  {
   "cell_type": "markdown",
   "metadata": {},
   "source": [
    "### Add shortest distance"
   ]
  },
  {
   "cell_type": "code",
   "execution_count": 79,
   "metadata": {
    "ExecuteTime": {
     "end_time": "2018-02-04T21:29:30.565098Z",
     "start_time": "2018-02-04T21:27:48.044456Z"
    }
   },
   "outputs": [],
   "source": [
    "# Use Vincenty function from geopy package to compute shortest distance between two points on earth\n",
    "data['short_distance'] = data[['pickup_latitude','pickup_longitude', 'dropoff_latitude', 'dropoff_longitude']].\\\n",
    "                         apply(lambda x: vincenty((x[0],x[1]),(x[2],x[3])), axis=1)"
   ]
  },
  {
   "cell_type": "markdown",
   "metadata": {
    "ExecuteTime": {
     "start_time": "2018-02-04T19:12:07.899Z"
    }
   },
   "source": [
    "### Add Weather Data"
   ]
  },
  {
   "cell_type": "code",
   "execution_count": 80,
   "metadata": {
    "ExecuteTime": {
     "end_time": "2018-02-04T21:29:30.926446Z",
     "start_time": "2018-02-04T21:29:30.920936Z"
    }
   },
   "outputs": [],
   "source": [
    "# Data sourced from https://www.kaggle.com/mathijs/weather-data-in-new-york-city-2016/data\n",
    "weather = pd.read_csv(\"./data/weather_data_nyc_centralpark_2016.csv\")"
   ]
  },
  {
   "cell_type": "code",
   "execution_count": 81,
   "metadata": {
    "ExecuteTime": {
     "end_time": "2018-02-04T21:29:31.255533Z",
     "start_time": "2018-02-04T21:29:31.250658Z"
    }
   },
   "outputs": [
    {
     "data": {
      "text/plain": [
       "Index(['date', 'maximum temperature', 'minimum temperature',\n",
       "       'average temperature', 'precipitation', 'snow fall', 'snow depth'],\n",
       "      dtype='object')"
      ]
     },
     "execution_count": 81,
     "metadata": {},
     "output_type": "execute_result"
    }
   ],
   "source": [
    "weather.columns"
   ]
  },
  {
   "cell_type": "code",
   "execution_count": 82,
   "metadata": {
    "ExecuteTime": {
     "end_time": "2018-02-04T21:29:31.612167Z",
     "start_time": "2018-02-04T21:29:31.541982Z"
    }
   },
   "outputs": [],
   "source": [
    "weather['date'] = pd.to_datetime(weather['date']).dt.date\n",
    "weather['precipitation'] = pd.to_numeric(weather.precipitation.apply(lambda x: '0.01' if x == 'T' else x),\\\n",
    "                                         downcast='float')\n",
    "weather['snow fall'] = pd.to_numeric(weather['snow fall'].apply(lambda x: '0.01' if x == 'T' else x),\\\n",
    "                                     downcast='float')\n",
    "weather['snow depth'] = pd.to_numeric(weather['snow depth'].apply(lambda x: '0.01' if x == 'T' else x),\\\n",
    "                                      downcast='float')"
   ]
  },
  {
   "cell_type": "code",
   "execution_count": 83,
   "metadata": {
    "ExecuteTime": {
     "end_time": "2018-02-04T21:29:33.495117Z",
     "start_time": "2018-02-04T21:29:31.891994Z"
    }
   },
   "outputs": [],
   "source": [
    "data = data.merge(weather, how='left', left_on='pickup_date', right_on='date')\n",
    "test = test.merge(weather, how='left', left_on='pickup_date', right_on='date')\n",
    "data.drop(columns=['pickup_date','date'], inplace=True)\n",
    "test.drop(columns=['pickup_date','date'], inplace=True)"
   ]
  },
  {
   "cell_type": "code",
   "execution_count": 84,
   "metadata": {
    "ExecuteTime": {
     "end_time": "2018-02-04T21:37:58.053974Z",
     "start_time": "2018-02-04T21:37:58.034647Z"
    }
   },
   "outputs": [],
   "source": [
    "# Target Encoding\n",
    "from sklearn.model_selection import KFold\n",
    "\n",
    "def reg_target_encoding(train, col, splits=5):\n",
    "    \"\"\" Computes regularize mean encoding.\n",
    "    Inputs:\n",
    "       train: training dataframe\n",
    "       \n",
    "    \"\"\"\n",
    "    kf = KFold(n_splits=splits)\n",
    "    global_mean = train.trip_duration.mean()\n",
    "    for train_index,test_index in kf.split(train):\n",
    "        kfold_mean_device_type = train.iloc[train_index,:].groupby(col).trip_duration.mean()\n",
    "        train.loc[test_index,col+'_mean_enc'] =  train.loc[test_index,col].map(kfold_mean_device_type) \n",
    "    train[col+\"_mean_enc\"].fillna(global_mean, inplace=True)\n",
    "    return train\n",
    "\n",
    "def mean_encoding_test(test, train, col):\n",
    "    \"\"\" Computes target enconding for test data.\n",
    "    This is similar to how we do validation\n",
    "    \"\"\"\n",
    "    global_mean = train.trip_duration.mean()\n",
    "    mean_device_type = train.groupby(col).trip_duration.mean()\n",
    "    test[col+\"_mean_enc\"] = test[col].map(mean_device_type)\n",
    "    test[col+\"_mean_enc\"].fillna(global_mean, inplace=True)\n",
    "    return test"
   ]
  },
  {
   "cell_type": "code",
   "execution_count": 85,
   "metadata": {
    "ExecuteTime": {
     "end_time": "2018-02-04T21:38:04.074815Z",
     "start_time": "2018-02-04T21:38:02.302193Z"
    }
   },
   "outputs": [],
   "source": [
    "train,valid = train_test_split(data,test_size =0.2)\n",
    "train = train.reset_index()\n",
    "train.drop('index', axis=1,inplace=True)\n",
    "valid = valid.reset_index()\n",
    "valid.drop('index', axis=1,inplace=True)"
   ]
  },
  {
   "cell_type": "code",
   "execution_count": 86,
   "metadata": {
    "ExecuteTime": {
     "end_time": "2018-02-04T21:38:20.992598Z",
     "start_time": "2018-02-04T21:38:08.898484Z"
    },
    "scrolled": true
   },
   "outputs": [],
   "source": [
    "collist = ['vendor_id','passenger_count','pickup_cluster','dropoff_cluster',\n",
    "           'store_and_fwd_flag','pickup_datetimeMonth','pickup_datetimeDayofweek','pickup_datetimeHour']\n",
    "for col in collist:\n",
    "    reg_target_encoding(train,col=col)\n",
    "    mean_encoding_test(valid,train,col=col)"
   ]
  },
  {
   "cell_type": "code",
   "execution_count": 87,
   "metadata": {
    "ExecuteTime": {
     "end_time": "2018-02-04T21:38:32.551975Z",
     "start_time": "2018-02-04T21:38:32.527761Z"
    }
   },
   "outputs": [
    {
     "data": {
      "text/html": [
       "<div>\n",
       "<style scoped>\n",
       "    .dataframe tbody tr th:only-of-type {\n",
       "        vertical-align: middle;\n",
       "    }\n",
       "\n",
       "    .dataframe tbody tr th {\n",
       "        vertical-align: top;\n",
       "    }\n",
       "\n",
       "    .dataframe thead th {\n",
       "        text-align: right;\n",
       "    }\n",
       "</style>\n",
       "<table border=\"1\" class=\"dataframe\">\n",
       "  <thead>\n",
       "    <tr style=\"text-align: right;\">\n",
       "      <th></th>\n",
       "      <th>id</th>\n",
       "      <th>vendor_id</th>\n",
       "      <th>passenger_count</th>\n",
       "      <th>pickup_longitude</th>\n",
       "      <th>pickup_latitude</th>\n",
       "      <th>dropoff_longitude</th>\n",
       "      <th>dropoff_latitude</th>\n",
       "      <th>store_and_fwd_flag</th>\n",
       "      <th>trip_duration</th>\n",
       "      <th>pickup_datetimeYear</th>\n",
       "      <th>...</th>\n",
       "      <th>snow fall</th>\n",
       "      <th>snow depth</th>\n",
       "      <th>vendor_id_mean_enc</th>\n",
       "      <th>passenger_count_mean_enc</th>\n",
       "      <th>pickup_cluster_mean_enc</th>\n",
       "      <th>dropoff_cluster_mean_enc</th>\n",
       "      <th>store_and_fwd_flag_mean_enc</th>\n",
       "      <th>pickup_datetimeMonth_mean_enc</th>\n",
       "      <th>pickup_datetimeDayofweek_mean_enc</th>\n",
       "      <th>pickup_datetimeHour_mean_enc</th>\n",
       "    </tr>\n",
       "  </thead>\n",
       "  <tbody>\n",
       "    <tr>\n",
       "      <th>0</th>\n",
       "      <td>id2566971</td>\n",
       "      <td>1</td>\n",
       "      <td>1</td>\n",
       "      <td>-73.980263</td>\n",
       "      <td>40.765717</td>\n",
       "      <td>-73.998695</td>\n",
       "      <td>40.726089</td>\n",
       "      <td>N</td>\n",
       "      <td>1561</td>\n",
       "      <td>2016</td>\n",
       "      <td>...</td>\n",
       "      <td>0.0</td>\n",
       "      <td>0.0</td>\n",
       "      <td>813.046019</td>\n",
       "      <td>807.268800</td>\n",
       "      <td>860.181973</td>\n",
       "      <td>753.718242</td>\n",
       "      <td>815.271357</td>\n",
       "      <td>830.778318</td>\n",
       "      <td>852.826867</td>\n",
       "      <td>897.261977</td>\n",
       "    </tr>\n",
       "    <tr>\n",
       "      <th>1</th>\n",
       "      <td>id3246535</td>\n",
       "      <td>1</td>\n",
       "      <td>1</td>\n",
       "      <td>-73.964493</td>\n",
       "      <td>40.792244</td>\n",
       "      <td>-73.945091</td>\n",
       "      <td>40.796654</td>\n",
       "      <td>N</td>\n",
       "      <td>461</td>\n",
       "      <td>2016</td>\n",
       "      <td>...</td>\n",
       "      <td>0.0</td>\n",
       "      <td>0.0</td>\n",
       "      <td>813.046019</td>\n",
       "      <td>807.268800</td>\n",
       "      <td>640.887397</td>\n",
       "      <td>753.409561</td>\n",
       "      <td>815.271357</td>\n",
       "      <td>800.575769</td>\n",
       "      <td>837.088998</td>\n",
       "      <td>865.830773</td>\n",
       "    </tr>\n",
       "    <tr>\n",
       "      <th>2</th>\n",
       "      <td>id3560523</td>\n",
       "      <td>2</td>\n",
       "      <td>1</td>\n",
       "      <td>-73.997681</td>\n",
       "      <td>40.691441</td>\n",
       "      <td>-73.976173</td>\n",
       "      <td>40.758980</td>\n",
       "      <td>N</td>\n",
       "      <td>1810</td>\n",
       "      <td>2016</td>\n",
       "      <td>...</td>\n",
       "      <td>0.0</td>\n",
       "      <td>0.0</td>\n",
       "      <td>819.209785</td>\n",
       "      <td>807.268800</td>\n",
       "      <td>924.940666</td>\n",
       "      <td>798.188241</td>\n",
       "      <td>815.271357</td>\n",
       "      <td>830.778318</td>\n",
       "      <td>788.231744</td>\n",
       "      <td>812.756223</td>\n",
       "    </tr>\n",
       "    <tr>\n",
       "      <th>3</th>\n",
       "      <td>id3040467</td>\n",
       "      <td>2</td>\n",
       "      <td>6</td>\n",
       "      <td>-73.977577</td>\n",
       "      <td>40.762032</td>\n",
       "      <td>-73.981834</td>\n",
       "      <td>40.768505</td>\n",
       "      <td>N</td>\n",
       "      <td>562</td>\n",
       "      <td>2016</td>\n",
       "      <td>...</td>\n",
       "      <td>0.0</td>\n",
       "      <td>0.0</td>\n",
       "      <td>819.209785</td>\n",
       "      <td>811.890421</td>\n",
       "      <td>860.181973</td>\n",
       "      <td>722.946423</td>\n",
       "      <td>815.271357</td>\n",
       "      <td>830.778318</td>\n",
       "      <td>774.117348</td>\n",
       "      <td>903.982383</td>\n",
       "    </tr>\n",
       "    <tr>\n",
       "      <th>4</th>\n",
       "      <td>id0497136</td>\n",
       "      <td>2</td>\n",
       "      <td>1</td>\n",
       "      <td>-73.994583</td>\n",
       "      <td>40.750481</td>\n",
       "      <td>-73.984322</td>\n",
       "      <td>40.759830</td>\n",
       "      <td>N</td>\n",
       "      <td>697</td>\n",
       "      <td>2016</td>\n",
       "      <td>...</td>\n",
       "      <td>0.0</td>\n",
       "      <td>0.0</td>\n",
       "      <td>819.209785</td>\n",
       "      <td>807.268800</td>\n",
       "      <td>836.586746</td>\n",
       "      <td>818.427445</td>\n",
       "      <td>815.271357</td>\n",
       "      <td>830.778318</td>\n",
       "      <td>837.088998</td>\n",
       "      <td>837.040698</td>\n",
       "    </tr>\n",
       "  </tbody>\n",
       "</table>\n",
       "<p>5 rows × 33 columns</p>\n",
       "</div>"
      ],
      "text/plain": [
       "          id  vendor_id  passenger_count  pickup_longitude  pickup_latitude  \\\n",
       "0  id2566971          1                1        -73.980263        40.765717   \n",
       "1  id3246535          1                1        -73.964493        40.792244   \n",
       "2  id3560523          2                1        -73.997681        40.691441   \n",
       "3  id3040467          2                6        -73.977577        40.762032   \n",
       "4  id0497136          2                1        -73.994583        40.750481   \n",
       "\n",
       "   dropoff_longitude  dropoff_latitude store_and_fwd_flag  trip_duration  \\\n",
       "0         -73.998695         40.726089                  N           1561   \n",
       "1         -73.945091         40.796654                  N            461   \n",
       "2         -73.976173         40.758980                  N           1810   \n",
       "3         -73.981834         40.768505                  N            562   \n",
       "4         -73.984322         40.759830                  N            697   \n",
       "\n",
       "   pickup_datetimeYear              ...               snow fall  snow depth  \\\n",
       "0                 2016              ...                     0.0         0.0   \n",
       "1                 2016              ...                     0.0         0.0   \n",
       "2                 2016              ...                     0.0         0.0   \n",
       "3                 2016              ...                     0.0         0.0   \n",
       "4                 2016              ...                     0.0         0.0   \n",
       "\n",
       "   vendor_id_mean_enc  passenger_count_mean_enc  pickup_cluster_mean_enc  \\\n",
       "0          813.046019                807.268800               860.181973   \n",
       "1          813.046019                807.268800               640.887397   \n",
       "2          819.209785                807.268800               924.940666   \n",
       "3          819.209785                811.890421               860.181973   \n",
       "4          819.209785                807.268800               836.586746   \n",
       "\n",
       "   dropoff_cluster_mean_enc  store_and_fwd_flag_mean_enc  \\\n",
       "0                753.718242                   815.271357   \n",
       "1                753.409561                   815.271357   \n",
       "2                798.188241                   815.271357   \n",
       "3                722.946423                   815.271357   \n",
       "4                818.427445                   815.271357   \n",
       "\n",
       "   pickup_datetimeMonth_mean_enc pickup_datetimeDayofweek_mean_enc  \\\n",
       "0                     830.778318                        852.826867   \n",
       "1                     800.575769                        837.088998   \n",
       "2                     830.778318                        788.231744   \n",
       "3                     830.778318                        774.117348   \n",
       "4                     830.778318                        837.088998   \n",
       "\n",
       "   pickup_datetimeHour_mean_enc  \n",
       "0                    897.261977  \n",
       "1                    865.830773  \n",
       "2                    812.756223  \n",
       "3                    903.982383  \n",
       "4                    837.040698  \n",
       "\n",
       "[5 rows x 33 columns]"
      ]
     },
     "execution_count": 87,
     "metadata": {},
     "output_type": "execute_result"
    }
   ],
   "source": [
    "train.head()"
   ]
  },
  {
   "cell_type": "code",
   "execution_count": 88,
   "metadata": {
    "ExecuteTime": {
     "end_time": "2018-02-04T21:38:57.330752Z",
     "start_time": "2018-02-04T21:38:57.307112Z"
    }
   },
   "outputs": [
    {
     "data": {
      "text/html": [
       "<div>\n",
       "<style scoped>\n",
       "    .dataframe tbody tr th:only-of-type {\n",
       "        vertical-align: middle;\n",
       "    }\n",
       "\n",
       "    .dataframe tbody tr th {\n",
       "        vertical-align: top;\n",
       "    }\n",
       "\n",
       "    .dataframe thead th {\n",
       "        text-align: right;\n",
       "    }\n",
       "</style>\n",
       "<table border=\"1\" class=\"dataframe\">\n",
       "  <thead>\n",
       "    <tr style=\"text-align: right;\">\n",
       "      <th></th>\n",
       "      <th>id</th>\n",
       "      <th>vendor_id</th>\n",
       "      <th>passenger_count</th>\n",
       "      <th>pickup_longitude</th>\n",
       "      <th>pickup_latitude</th>\n",
       "      <th>dropoff_longitude</th>\n",
       "      <th>dropoff_latitude</th>\n",
       "      <th>store_and_fwd_flag</th>\n",
       "      <th>trip_duration</th>\n",
       "      <th>pickup_datetimeYear</th>\n",
       "      <th>...</th>\n",
       "      <th>snow fall</th>\n",
       "      <th>snow depth</th>\n",
       "      <th>vendor_id_mean_enc</th>\n",
       "      <th>passenger_count_mean_enc</th>\n",
       "      <th>pickup_cluster_mean_enc</th>\n",
       "      <th>dropoff_cluster_mean_enc</th>\n",
       "      <th>store_and_fwd_flag_mean_enc</th>\n",
       "      <th>pickup_datetimeMonth_mean_enc</th>\n",
       "      <th>pickup_datetimeDayofweek_mean_enc</th>\n",
       "      <th>pickup_datetimeHour_mean_enc</th>\n",
       "    </tr>\n",
       "  </thead>\n",
       "  <tbody>\n",
       "    <tr>\n",
       "      <th>0</th>\n",
       "      <td>id3417922</td>\n",
       "      <td>1</td>\n",
       "      <td>3</td>\n",
       "      <td>-73.954384</td>\n",
       "      <td>40.763775</td>\n",
       "      <td>-73.963005</td>\n",
       "      <td>40.756851</td>\n",
       "      <td>N</td>\n",
       "      <td>294</td>\n",
       "      <td>2016</td>\n",
       "      <td>...</td>\n",
       "      <td>0.0</td>\n",
       "      <td>0.0</td>\n",
       "      <td>813.118056</td>\n",
       "      <td>842.671110</td>\n",
       "      <td>702.047318</td>\n",
       "      <td>699.739098</td>\n",
       "      <td>815.147676</td>\n",
       "      <td>779.317144</td>\n",
       "      <td>773.171467</td>\n",
       "      <td>836.179936</td>\n",
       "    </tr>\n",
       "    <tr>\n",
       "      <th>1</th>\n",
       "      <td>id3126615</td>\n",
       "      <td>2</td>\n",
       "      <td>1</td>\n",
       "      <td>-73.989784</td>\n",
       "      <td>40.730267</td>\n",
       "      <td>-73.997543</td>\n",
       "      <td>40.724308</td>\n",
       "      <td>N</td>\n",
       "      <td>387</td>\n",
       "      <td>2016</td>\n",
       "      <td>...</td>\n",
       "      <td>0.0</td>\n",
       "      <td>0.0</td>\n",
       "      <td>818.913103</td>\n",
       "      <td>806.875521</td>\n",
       "      <td>761.653388</td>\n",
       "      <td>802.233728</td>\n",
       "      <td>815.147676</td>\n",
       "      <td>779.317144</td>\n",
       "      <td>853.070317</td>\n",
       "      <td>902.892622</td>\n",
       "    </tr>\n",
       "    <tr>\n",
       "      <th>2</th>\n",
       "      <td>id2283587</td>\n",
       "      <td>2</td>\n",
       "      <td>6</td>\n",
       "      <td>-73.977989</td>\n",
       "      <td>40.754910</td>\n",
       "      <td>-73.991493</td>\n",
       "      <td>40.750439</td>\n",
       "      <td>N</td>\n",
       "      <td>412</td>\n",
       "      <td>2016</td>\n",
       "      <td>...</td>\n",
       "      <td>0.0</td>\n",
       "      <td>0.0</td>\n",
       "      <td>818.913103</td>\n",
       "      <td>813.182067</td>\n",
       "      <td>788.984814</td>\n",
       "      <td>800.096540</td>\n",
       "      <td>815.147676</td>\n",
       "      <td>801.437000</td>\n",
       "      <td>835.056281</td>\n",
       "      <td>902.892622</td>\n",
       "    </tr>\n",
       "    <tr>\n",
       "      <th>3</th>\n",
       "      <td>id1106505</td>\n",
       "      <td>2</td>\n",
       "      <td>1</td>\n",
       "      <td>-73.978287</td>\n",
       "      <td>40.689800</td>\n",
       "      <td>-73.952797</td>\n",
       "      <td>40.608776</td>\n",
       "      <td>N</td>\n",
       "      <td>1837</td>\n",
       "      <td>2016</td>\n",
       "      <td>...</td>\n",
       "      <td>0.0</td>\n",
       "      <td>0.0</td>\n",
       "      <td>818.913103</td>\n",
       "      <td>806.875521</td>\n",
       "      <td>830.773590</td>\n",
       "      <td>1989.157352</td>\n",
       "      <td>815.147676</td>\n",
       "      <td>829.655355</td>\n",
       "      <td>773.171467</td>\n",
       "      <td>732.148503</td>\n",
       "    </tr>\n",
       "    <tr>\n",
       "      <th>4</th>\n",
       "      <td>id3024151</td>\n",
       "      <td>1</td>\n",
       "      <td>3</td>\n",
       "      <td>-73.993301</td>\n",
       "      <td>40.747154</td>\n",
       "      <td>-73.998657</td>\n",
       "      <td>40.739922</td>\n",
       "      <td>N</td>\n",
       "      <td>91</td>\n",
       "      <td>2016</td>\n",
       "      <td>...</td>\n",
       "      <td>0.0</td>\n",
       "      <td>0.0</td>\n",
       "      <td>813.118056</td>\n",
       "      <td>842.671110</td>\n",
       "      <td>834.494261</td>\n",
       "      <td>643.157207</td>\n",
       "      <td>815.147676</td>\n",
       "      <td>858.549386</td>\n",
       "      <td>753.773681</td>\n",
       "      <td>836.179936</td>\n",
       "    </tr>\n",
       "  </tbody>\n",
       "</table>\n",
       "<p>5 rows × 33 columns</p>\n",
       "</div>"
      ],
      "text/plain": [
       "          id  vendor_id  passenger_count  pickup_longitude  pickup_latitude  \\\n",
       "0  id3417922          1                3        -73.954384        40.763775   \n",
       "1  id3126615          2                1        -73.989784        40.730267   \n",
       "2  id2283587          2                6        -73.977989        40.754910   \n",
       "3  id1106505          2                1        -73.978287        40.689800   \n",
       "4  id3024151          1                3        -73.993301        40.747154   \n",
       "\n",
       "   dropoff_longitude  dropoff_latitude store_and_fwd_flag  trip_duration  \\\n",
       "0         -73.963005         40.756851                  N            294   \n",
       "1         -73.997543         40.724308                  N            387   \n",
       "2         -73.991493         40.750439                  N            412   \n",
       "3         -73.952797         40.608776                  N           1837   \n",
       "4         -73.998657         40.739922                  N             91   \n",
       "\n",
       "   pickup_datetimeYear              ...               snow fall  snow depth  \\\n",
       "0                 2016              ...                     0.0         0.0   \n",
       "1                 2016              ...                     0.0         0.0   \n",
       "2                 2016              ...                     0.0         0.0   \n",
       "3                 2016              ...                     0.0         0.0   \n",
       "4                 2016              ...                     0.0         0.0   \n",
       "\n",
       "   vendor_id_mean_enc  passenger_count_mean_enc  pickup_cluster_mean_enc  \\\n",
       "0          813.118056                842.671110               702.047318   \n",
       "1          818.913103                806.875521               761.653388   \n",
       "2          818.913103                813.182067               788.984814   \n",
       "3          818.913103                806.875521               830.773590   \n",
       "4          813.118056                842.671110               834.494261   \n",
       "\n",
       "   dropoff_cluster_mean_enc  store_and_fwd_flag_mean_enc  \\\n",
       "0                699.739098                   815.147676   \n",
       "1                802.233728                   815.147676   \n",
       "2                800.096540                   815.147676   \n",
       "3               1989.157352                   815.147676   \n",
       "4                643.157207                   815.147676   \n",
       "\n",
       "   pickup_datetimeMonth_mean_enc pickup_datetimeDayofweek_mean_enc  \\\n",
       "0                     779.317144                        773.171467   \n",
       "1                     779.317144                        853.070317   \n",
       "2                     801.437000                        835.056281   \n",
       "3                     829.655355                        773.171467   \n",
       "4                     858.549386                        753.773681   \n",
       "\n",
       "   pickup_datetimeHour_mean_enc  \n",
       "0                    836.179936  \n",
       "1                    902.892622  \n",
       "2                    902.892622  \n",
       "3                    732.148503  \n",
       "4                    836.179936  \n",
       "\n",
       "[5 rows x 33 columns]"
      ]
     },
     "execution_count": 88,
     "metadata": {},
     "output_type": "execute_result"
    }
   ],
   "source": [
    "valid.head()"
   ]
  },
  {
   "cell_type": "markdown",
   "metadata": {},
   "source": [
    "## Final Preprocessing"
   ]
  },
  {
   "cell_type": "code",
   "execution_count": 108,
   "metadata": {},
   "outputs": [],
   "source": [
    "train_cats(train)"
   ]
  },
  {
   "cell_type": "code",
   "execution_count": 109,
   "metadata": {},
   "outputs": [],
   "source": [
    "apply_cats(valid,train)"
   ]
  },
  {
   "cell_type": "code",
   "execution_count": 114,
   "metadata": {},
   "outputs": [],
   "source": [
    "final_train = proc_df(train,'trip_duration')"
   ]
  },
  {
   "cell_type": "code",
   "execution_count": 116,
   "metadata": {},
   "outputs": [],
   "source": [
    "X_train = final_train[0]\n",
    "y_train = final_train[1]"
   ]
  }
 ],
 "metadata": {
  "kernelspec": {
   "display_name": "Python [default]",
   "language": "python",
   "name": "python3"
  },
  "language_info": {
   "codemirror_mode": {
    "name": "ipython",
    "version": 3
   },
   "file_extension": ".py",
   "mimetype": "text/x-python",
   "name": "python",
   "nbconvert_exporter": "python",
   "pygments_lexer": "ipython3",
   "version": "3.6.4"
  },
  "latex_envs": {
   "LaTeX_envs_menu_present": true,
   "autocomplete": true,
   "bibliofile": "biblio.bib",
   "cite_by": "apalike",
   "current_citInitial": 1,
   "eqLabelWithNumbers": true,
   "eqNumInitial": 1,
   "hotkeys": {
    "equation": "Ctrl-E",
    "itemize": "Ctrl-I"
   },
   "labels_anchors": false,
   "latex_user_defs": false,
   "report_style_numbering": false,
   "user_envs_cfg": false
  },
  "toc": {
   "nav_menu": {},
   "number_sections": true,
   "sideBar": true,
   "skip_h1_title": false,
   "toc_cell": false,
   "toc_position": {},
   "toc_section_display": "block",
   "toc_window_display": false
  },
  "varInspector": {
   "cols": {
    "lenName": 16,
    "lenType": 16,
    "lenVar": 40
   },
   "kernels_config": {
    "python": {
     "delete_cmd_postfix": "",
     "delete_cmd_prefix": "del ",
     "library": "var_list.py",
     "varRefreshCmd": "print(var_dic_list())"
    },
    "r": {
     "delete_cmd_postfix": ") ",
     "delete_cmd_prefix": "rm(",
     "library": "var_list.r",
     "varRefreshCmd": "cat(var_dic_list()) "
    }
   },
   "position": {
    "height": "346px",
    "left": "1070px",
    "right": "20px",
    "top": "120px",
    "width": "349px"
   },
   "types_to_exclude": [
    "module",
    "function",
    "builtin_function_or_method",
    "instance",
    "_Feature"
   ],
   "window_display": false
  }
 },
 "nbformat": 4,
 "nbformat_minor": 2
}
